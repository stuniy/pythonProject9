{
 "cells": [
  {
   "cell_type": "code",
   "execution_count": 1,
   "metadata": {
    "collapsed": true
   },
   "outputs": [],
   "source": [
    "# подключение библиотек\n",
    "import pandas as pd\n",
    "import numpy as np\n",
    "import seaborn as sns\n",
    "import scipy.stats as sts\n",
    "from sklearn.feature_selection import SelectKBest\n",
    "from sklearn.ensemble import RandomForestClassifier\n",
    "from sklearn.feature_selection import chi2\n",
    "from sklearn.preprocessing import MinMaxScaler\n",
    "from sklearn.preprocessing import StandardScaler\n",
    "from sklearn.model_selection import train_test_split\n",
    "\n",
    "from sklearn.linear_model import LogisticRegression\n",
    "from sklearn.neighbors import KNeighborsClassifier\n",
    "from sklearn.tree import DecisionTreeClassifier, plot_tree\n",
    "from sklearn.svm import SVC\n",
    "from sklearn.linear_model import Perceptron\n",
    "from sklearn.neural_network import MLPClassifier\n",
    "from sklearn.ensemble import RandomForestClassifier\n",
    "\n",
    "from sklearn.metrics import confusion_matrix\n",
    "from sklearn.metrics import accuracy_score\n",
    "from sklearn.metrics import f1_score\n",
    "from sklearn.metrics import recall_score\n",
    "from sklearn.metrics import precision_score\n",
    "from sklearn.metrics import roc_curve\n",
    "from sklearn.metrics import roc_auc_score\n",
    "from sklearn.metrics import auc\n",
    "\n",
    "import matplotlib.pyplot as plt\n",
    "import matplotlib.mlab as mlab\n",
    "import matplotlib\n",
    "plt.style.use('ggplot')\n",
    "from matplotlib.pyplot import figure\n",
    "from IPython.core.pylabtools import figsize\n",
    "import itertools\n",
    "from sklearn.datasets import make_friedman1\n",
    "from sklearn.feature_selection import RFE\n",
    "from sklearn.feature_selection import RFECV\n",
    "from sklearn.ensemble import RandomForestClassifier, AdaBoostClassifier\n",
    "from sklearn.linear_model import RidgeCV\n",
    "from sklearn.ensemble import StackingClassifier\n",
    "from sklearn.ensemble import GradientBoostingClassifier\n",
    "from sklearn.ensemble import VotingClassifier\n",
    "from sklearn.naive_bayes import GaussianNB\n",
    "from sklearn.model_selection import cross_val_score\n",
    "from sklearn.discriminant_analysis import LinearDiscriminantAnalysis\n",
    "from sklearn.naive_bayes import GaussianNB\n",
    "\n",
    "%matplotlib inline\n",
    "matplotlib.rcParams['figure.figsize'] = (12,8)\n",
    "\n",
    "pd.options.mode.chained_assignment = None"
   ]
  },
  {
   "cell_type": "code",
   "execution_count": 13,
   "outputs": [],
   "source": [
    "# загрузка выборки\n",
    "df=pd.read_csv('input.csv')"
   ],
   "metadata": {
    "collapsed": false
   }
  },
  {
   "cell_type": "code",
   "execution_count": 14,
   "outputs": [
    {
     "data": {
      "text/plain": "     Hemoglobin  Erythrocytes  Color_index  Leukocytes   Neutrophils  \\\n0         146.0           4.5         0.97         7.6             9   \n1         141.0           4.5         0.94         8.7             2   \n2         162.0           4.8         1.00         8.1             6   \n3         162.1           4.8         1.00         9.0            12   \n4         142.8           4.6         0.93        12.5             6   \n..          ...           ...          ...         ...           ...   \n104       134.0           4.4         0.92         5.0             5   \n105       148.6           4.6         0.97        11.4             6   \n106       118.0           4.3         0.89         9.9             8   \n107       142.8           4.6         0.93        10.3            26   \n108       131.0           4.4         0.90         4.0             2   \n\n      Neutrophils_segmented  Lymphocytes  Monocytes  Erythrocyte  \\\n0                        65           21          5           15   \n1                        70           27          1            8   \n2                        80           12          3           15   \n3                        78            5          5           15   \n4                        48           43          2           18   \n..                      ...          ...        ...          ...   \n104                      54           36          5           35   \n105                      60           32          1           15   \n106                      65           22          4           45   \n107                      50           23          1           40   \n108                      58           38          1           15   \n\n     Total_bilirubin   Total_protein  Amylase  Glucose  Duration  sex  \\\n0               12.8           67.00     18.2      5.8       150    1   \n1               14.0           66.00     14.0      5.0        40    1   \n2               13.4           77.00     16.8      8.7        55    1   \n3               16.3           72.00     30.1      5.8        50    1   \n4                8.5           63.00     21.0      4.6        70    0   \n..               ...             ...      ...      ...       ...  ...   \n104             50.0           69.00     19.4     62.0       120    1   \n105             68.0           68.00    142.2      6.8        35    1   \n106             15.0           68.00     27.0      5.3        45    0   \n107             29.5           79.00     27.0      6.2       110    0   \n108             97.8           64.32     27.0     10.0       130    0   \n\n     conclusion  \n0             0  \n1             0  \n2             0  \n3             0  \n4             0  \n..          ...  \n104           1  \n105           1  \n106           1  \n107           1  \n108           1  \n\n[109 rows x 16 columns]",
      "text/html": "<div>\n<style scoped>\n    .dataframe tbody tr th:only-of-type {\n        vertical-align: middle;\n    }\n\n    .dataframe tbody tr th {\n        vertical-align: top;\n    }\n\n    .dataframe thead th {\n        text-align: right;\n    }\n</style>\n<table border=\"1\" class=\"dataframe\">\n  <thead>\n    <tr style=\"text-align: right;\">\n      <th></th>\n      <th>Hemoglobin</th>\n      <th>Erythrocytes</th>\n      <th>Color_index</th>\n      <th>Leukocytes</th>\n      <th>Neutrophils</th>\n      <th>Neutrophils_segmented</th>\n      <th>Lymphocytes</th>\n      <th>Monocytes</th>\n      <th>Erythrocyte</th>\n      <th>Total_bilirubin</th>\n      <th>Total_protein</th>\n      <th>Amylase</th>\n      <th>Glucose</th>\n      <th>Duration</th>\n      <th>sex</th>\n      <th>conclusion</th>\n    </tr>\n  </thead>\n  <tbody>\n    <tr>\n      <th>0</th>\n      <td>146.0</td>\n      <td>4.5</td>\n      <td>0.97</td>\n      <td>7.6</td>\n      <td>9</td>\n      <td>65</td>\n      <td>21</td>\n      <td>5</td>\n      <td>15</td>\n      <td>12.8</td>\n      <td>67.00</td>\n      <td>18.2</td>\n      <td>5.8</td>\n      <td>150</td>\n      <td>1</td>\n      <td>0</td>\n    </tr>\n    <tr>\n      <th>1</th>\n      <td>141.0</td>\n      <td>4.5</td>\n      <td>0.94</td>\n      <td>8.7</td>\n      <td>2</td>\n      <td>70</td>\n      <td>27</td>\n      <td>1</td>\n      <td>8</td>\n      <td>14.0</td>\n      <td>66.00</td>\n      <td>14.0</td>\n      <td>5.0</td>\n      <td>40</td>\n      <td>1</td>\n      <td>0</td>\n    </tr>\n    <tr>\n      <th>2</th>\n      <td>162.0</td>\n      <td>4.8</td>\n      <td>1.00</td>\n      <td>8.1</td>\n      <td>6</td>\n      <td>80</td>\n      <td>12</td>\n      <td>3</td>\n      <td>15</td>\n      <td>13.4</td>\n      <td>77.00</td>\n      <td>16.8</td>\n      <td>8.7</td>\n      <td>55</td>\n      <td>1</td>\n      <td>0</td>\n    </tr>\n    <tr>\n      <th>3</th>\n      <td>162.1</td>\n      <td>4.8</td>\n      <td>1.00</td>\n      <td>9.0</td>\n      <td>12</td>\n      <td>78</td>\n      <td>5</td>\n      <td>5</td>\n      <td>15</td>\n      <td>16.3</td>\n      <td>72.00</td>\n      <td>30.1</td>\n      <td>5.8</td>\n      <td>50</td>\n      <td>1</td>\n      <td>0</td>\n    </tr>\n    <tr>\n      <th>4</th>\n      <td>142.8</td>\n      <td>4.6</td>\n      <td>0.93</td>\n      <td>12.5</td>\n      <td>6</td>\n      <td>48</td>\n      <td>43</td>\n      <td>2</td>\n      <td>18</td>\n      <td>8.5</td>\n      <td>63.00</td>\n      <td>21.0</td>\n      <td>4.6</td>\n      <td>70</td>\n      <td>0</td>\n      <td>0</td>\n    </tr>\n    <tr>\n      <th>...</th>\n      <td>...</td>\n      <td>...</td>\n      <td>...</td>\n      <td>...</td>\n      <td>...</td>\n      <td>...</td>\n      <td>...</td>\n      <td>...</td>\n      <td>...</td>\n      <td>...</td>\n      <td>...</td>\n      <td>...</td>\n      <td>...</td>\n      <td>...</td>\n      <td>...</td>\n      <td>...</td>\n    </tr>\n    <tr>\n      <th>104</th>\n      <td>134.0</td>\n      <td>4.4</td>\n      <td>0.92</td>\n      <td>5.0</td>\n      <td>5</td>\n      <td>54</td>\n      <td>36</td>\n      <td>5</td>\n      <td>35</td>\n      <td>50.0</td>\n      <td>69.00</td>\n      <td>19.4</td>\n      <td>62.0</td>\n      <td>120</td>\n      <td>1</td>\n      <td>1</td>\n    </tr>\n    <tr>\n      <th>105</th>\n      <td>148.6</td>\n      <td>4.6</td>\n      <td>0.97</td>\n      <td>11.4</td>\n      <td>6</td>\n      <td>60</td>\n      <td>32</td>\n      <td>1</td>\n      <td>15</td>\n      <td>68.0</td>\n      <td>68.00</td>\n      <td>142.2</td>\n      <td>6.8</td>\n      <td>35</td>\n      <td>1</td>\n      <td>1</td>\n    </tr>\n    <tr>\n      <th>106</th>\n      <td>118.0</td>\n      <td>4.3</td>\n      <td>0.89</td>\n      <td>9.9</td>\n      <td>8</td>\n      <td>65</td>\n      <td>22</td>\n      <td>4</td>\n      <td>45</td>\n      <td>15.0</td>\n      <td>68.00</td>\n      <td>27.0</td>\n      <td>5.3</td>\n      <td>45</td>\n      <td>0</td>\n      <td>1</td>\n    </tr>\n    <tr>\n      <th>107</th>\n      <td>142.8</td>\n      <td>4.6</td>\n      <td>0.93</td>\n      <td>10.3</td>\n      <td>26</td>\n      <td>50</td>\n      <td>23</td>\n      <td>1</td>\n      <td>40</td>\n      <td>29.5</td>\n      <td>79.00</td>\n      <td>27.0</td>\n      <td>6.2</td>\n      <td>110</td>\n      <td>0</td>\n      <td>1</td>\n    </tr>\n    <tr>\n      <th>108</th>\n      <td>131.0</td>\n      <td>4.4</td>\n      <td>0.90</td>\n      <td>4.0</td>\n      <td>2</td>\n      <td>58</td>\n      <td>38</td>\n      <td>1</td>\n      <td>15</td>\n      <td>97.8</td>\n      <td>64.32</td>\n      <td>27.0</td>\n      <td>10.0</td>\n      <td>130</td>\n      <td>0</td>\n      <td>1</td>\n    </tr>\n  </tbody>\n</table>\n<p>109 rows × 16 columns</p>\n</div>"
     },
     "execution_count": 14,
     "metadata": {},
     "output_type": "execute_result"
    }
   ],
   "source": [
    "# просмотр\n",
    "df"
   ],
   "metadata": {
    "collapsed": false
   }
  },
  {
   "cell_type": "code",
   "execution_count": 15,
   "outputs": [],
   "source": [
    "def preproc(df):\n",
    "# загрузим данные\n",
    "#будет установлена первая строка в качестве имен столбцов dataframe\n",
    "    #df.columns = df.iloc[0]\n",
    "    #удаляем 0-строку\n",
    "   # df=df.drop(df.index[[0,2]])\n",
    "    #преобразуем к числовому формату\n",
    "    df=df.iloc[0:108].apply(pd.to_numeric)\n",
    "    x=df.iloc[:,0:15]\n",
    "    y=df.iloc[:,-1]\n",
    "    print(x)\n",
    "    print(y)\n",
    "    return df,x,y"
   ],
   "metadata": {
    "collapsed": false
   }
  },
  {
   "cell_type": "code",
   "execution_count": null,
   "outputs": [],
   "source": [
    "def stat(df):\n",
    "    # описательная статистика для числовых данных\n",
    "    print(df.describe())\n",
    "    a = []\n",
    "    b = []\n",
    "    cols = list(df)\n",
    "    for i in cols:\n",
    "        kurt = sts.kurtosis(df[i], axis=0, fisher=True, bias=True)\n",
    "        sk = sts.skew(df[i], axis=0, bias=True)\n",
    "        print('Показатели ассиметрии и эксцесса для: {}'.format(i))\n",
    "        print(kurt, sk)\n",
    "        a.append(kurt)\n",
    "        b.append(sk)\n",
    "    return a, b"
   ],
   "metadata": {
    "collapsed": false
   }
  },
  {
   "cell_type": "code",
   "execution_count": null,
   "outputs": [],
   "source": [
    "def hitg(df):\n",
    "    fig = plt.figure(figsize=(15, 20))\n",
    "    ax = fig.gca()\n",
    "    df.hist(ax=ax)\n",
    "    #plt.title('Гистограммы показателей',fontsize=10)\n",
    "    #plt.xlabel('Интервалы распределения',fontsize=10)\n",
    "    #plt.ylabel('Частота',fontsize=10)\n",
    "    plt.show()\n",
    "\n",
    "    sns.heatmap(df.corr(), annot=True, cmap='RdYlGn', linewidths=0.2)\n",
    "    fig = plt.gcf()\n",
    "    fig.set_size_inches(12, 12)\n",
    "    plt.show()"
   ],
   "metadata": {
    "collapsed": false
   }
  },
  {
   "cell_type": "code",
   "execution_count": null,
   "outputs": [],
   "source": [
    "def k_best(x, y):\n",
    "    bestfeature = SelectKBest(score_func=chi2, k='all')\n",
    "    fit = bestfeature.fit(x, y)\n",
    "    df_score = pd.DataFrame(fit.scores_)\n",
    "    df_column = pd.DataFrame(x.columns)\n",
    "    feature_score = pd.concat([df_column, df_score], axis=1)\n",
    "    feature_score.columns = ['Specs', 'Score']\n",
    "    feature_score = feature_score.sort_values(by='Score', ascending=False)\n",
    "    print('Значимость показателей')\n",
    "    print(feature_score)\n",
    "    # выбираем показатели по важности\n",
    "    f_s1 = feature_score[feature_score['Score'] > 20]\n",
    "    drop_list1 = f_s1['Specs']\n",
    "    #drop_list1.head(7)\n",
    "    #feature_score\n",
    "    x_1 = x.loc[:, drop_list1]  #3\n",
    "    print(\n",
    "        'Используя метод фльтрации Хи2 для отбра показателей мы получили следующий результат. Наиболее информативными показателями являются:')\n",
    "    print(drop_list1)\n",
    "    print('Создадим новую выборку состоящую толко из этих показателей.')\n",
    "    print(x_1)\n",
    "    return feature_score, x_1, f_s1"
   ],
   "metadata": {
    "collapsed": false
   }
  },
  {
   "cell_type": "code",
   "execution_count": null,
   "outputs": [],
   "source": [
    "def forest_select(x, y):\n",
    "    clf_rf_3 = RandomForestClassifier(criterion='entropy', max_depth=2, bootstrap='bool', random_state=1)\n",
    "    clf_rf_2 = AdaBoostClassifier()\n",
    "    #mlp = MLPClassifier(activation='relu', solver='lbfgs', alpha=1e-5, max_iter=1000, hidden_layer_sizes=(3, ), random_state=1)\n",
    "    #mlp_full=mlp.fit(x_full_train, y_train)\n",
    "    rfe = RFECV(estimator=clf_rf_3, step=1, cv=5)\n",
    "    rfe1 = RFE(estimator=clf_rf_3, n_features_to_select=5, step=1)\n",
    "    # fff1=rfe.fit(x, y)\n",
    "    ffff2 = rfe1.fit(x, y)\n",
    "    # нужно проверить\n",
    "    print(f'вектор. {rfe1.support_}')\n",
    "    print('Ранжирование объектов с рекурсивным исключением с использование метода RandomForest::',\n",
    "          x.columns[rfe1.support_])\n",
    "    # формирование новой выборки\n",
    "    x_12 = x.loc[:, x.columns[rfe1.support_]]\n",
    "    return x_12"
   ],
   "metadata": {
    "collapsed": false
   }
  },
  {
   "cell_type": "code",
   "execution_count": 16,
   "outputs": [
    {
     "name": "stdout",
     "output_type": "stream",
     "text": [
      "     Hemoglobin  Erythrocytes  Color_index  Leukocytes   Neutrophils  \\\n",
      "0         146.0           4.5         0.97         7.6             9   \n",
      "1         141.0           4.5         0.94         8.7             2   \n",
      "2         162.0           4.8         1.00         8.1             6   \n",
      "3         162.1           4.8         1.00         9.0            12   \n",
      "4         142.8           4.6         0.93        12.5             6   \n",
      "..          ...           ...          ...         ...           ...   \n",
      "103       138.0           4.5         0.92        18.6            18   \n",
      "104       134.0           4.4         0.92         5.0             5   \n",
      "105       148.6           4.6         0.97        11.4             6   \n",
      "106       118.0           4.3         0.89         9.9             8   \n",
      "107       142.8           4.6         0.93        10.3            26   \n",
      "\n",
      "      Neutrophils_segmented  Lymphocytes  Monocytes  Erythrocyte  \\\n",
      "0                        65           21          5           15   \n",
      "1                        70           27          1            8   \n",
      "2                        80           12          3           15   \n",
      "3                        78            5          5           15   \n",
      "4                        48           43          2           18   \n",
      "..                      ...          ...        ...          ...   \n",
      "103                      63           11          8           15   \n",
      "104                      54           36          5           35   \n",
      "105                      60           32          1           15   \n",
      "106                      65           22          4           45   \n",
      "107                      50           23          1           40   \n",
      "\n",
      "     Total_bilirubin   Total_protein  Amylase  Glucose  Duration  sex  \n",
      "0               12.8            67.0     18.2      5.8       150    1  \n",
      "1               14.0            66.0     14.0      5.0        40    1  \n",
      "2               13.4            77.0     16.8      8.7        55    1  \n",
      "3               16.3            72.0     30.1      5.8        50    1  \n",
      "4                8.5            63.0     21.0      4.6        70    0  \n",
      "..               ...             ...      ...      ...       ...  ...  \n",
      "103            230.0            68.0     48.0      6.4        55    0  \n",
      "104             50.0            69.0     19.4     62.0       120    1  \n",
      "105             68.0            68.0    142.2      6.8        35    1  \n",
      "106             15.0            68.0     27.0      5.3        45    0  \n",
      "107             29.5            79.0     27.0      6.2       110    0  \n",
      "\n",
      "[108 rows x 15 columns]\n",
      "0      0\n",
      "1      0\n",
      "2      0\n",
      "3      0\n",
      "4      0\n",
      "      ..\n",
      "103    1\n",
      "104    1\n",
      "105    1\n",
      "106    1\n",
      "107    1\n",
      "Name: conclusion, Length: 108, dtype: int64\n"
     ]
    }
   ],
   "source": [
    "df,x,y=preproc(df)"
   ],
   "metadata": {
    "collapsed": false
   }
  },
  {
   "cell_type": "code",
   "execution_count": null,
   "outputs": [],
   "source": [],
   "metadata": {
    "collapsed": false
   }
  }
 ],
 "metadata": {
  "kernelspec": {
   "display_name": "Python 3",
   "language": "python",
   "name": "python3"
  },
  "language_info": {
   "codemirror_mode": {
    "name": "ipython",
    "version": 2
   },
   "file_extension": ".py",
   "mimetype": "text/x-python",
   "name": "python",
   "nbconvert_exporter": "python",
   "pygments_lexer": "ipython2",
   "version": "2.7.6"
  }
 },
 "nbformat": 4,
 "nbformat_minor": 0
}
